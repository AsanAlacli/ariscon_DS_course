{
 "cells": [
  {
   "cell_type": "code",
   "execution_count": 32,
   "metadata": {},
   "outputs": [
    {
     "name": "stdout",
     "output_type": "stream",
     "text": [
      "6\n",
      "2345\n",
      "6\n",
      "a\n",
      "2345\n",
      "a\n"
     ]
    }
   ],
   "source": [
    "my_list = [2,4,5,6,2345,34,6,\"a\",0,2345,\"a\"]\n",
    "\n",
    "for x1 in range(0, len(my_list)):\n",
    "    for x2 in range(1, len(my_list)):\n",
    "        if my_list[x1]==my_list[x2] and x1 != x2:\n",
    "            print(my_list[x1])\n",
    "    \n",
    "            \n",
    "        \n",
    "    \n"
   ]
  },
  {
   "cell_type": "code",
   "execution_count": null,
   "metadata": {},
   "outputs": [],
   "source": []
  },
  {
   "cell_type": "code",
   "execution_count": 39,
   "metadata": {},
   "outputs": [],
   "source": [
    "#finds only one dublicate nummer or last one, just like you asked. however we ca add .append() for rest.\n",
    "def find_the_same(my_list):\n",
    "    for x1 in range(0, len(my_list)):\n",
    "        for x2 in range(1, len(my_list)):\n",
    "            if my_list[x1]==my_list[x2] and x1 != x2:\n",
    "                print(my_list[x1])\n",
    "                return\n",
    "        \n",
    "\n"
   ]
  },
  {
   "cell_type": "code",
   "execution_count": 43,
   "metadata": {},
   "outputs": [
    {
     "name": "stdout",
     "output_type": "stream",
     "text": [
      "4\n"
     ]
    }
   ],
   "source": [
    "find_the_same([2,4,5,6,2345,4])"
   ]
  },
  {
   "cell_type": "code",
   "execution_count": null,
   "metadata": {},
   "outputs": [],
   "source": []
  }
 ],
 "metadata": {
  "kernelspec": {
   "display_name": "Python 3",
   "language": "python",
   "name": "python3"
  },
  "language_info": {
   "codemirror_mode": {
    "name": "ipython",
    "version": 3
   },
   "file_extension": ".py",
   "mimetype": "text/x-python",
   "name": "python",
   "nbconvert_exporter": "python",
   "pygments_lexer": "ipython3",
   "version": "3.7.1"
  }
 },
 "nbformat": 4,
 "nbformat_minor": 2
}
